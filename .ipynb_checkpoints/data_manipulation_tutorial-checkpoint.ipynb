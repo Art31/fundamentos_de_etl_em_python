{
 "cells": [
  {
   "cell_type": "markdown",
   "metadata": {},
   "source": [
    "Importando as bibliotecas necessárias e armazenando as credenciais e queries em memória.\n",
    "\n",
    "IMPORTANTE: É necessário seguir o contexto indicado para que o controle de valores de um ETL não afete o outro."
   ]
  },
  {
   "cell_type": "code",
   "execution_count": null,
   "metadata": {},
   "outputs": [],
   "source": [
    "#!/usr/bin/env python3\n",
    "# -*- coding: utf-8 -*-\n",
    "\"\"\"\n",
    "Created on Thu Dec  6 16:53:57 2018\n",
    "\n",
    "@author: arthur.telles\n",
    "\"\"\"\n",
    "\n",
    "import sys, os, traceback\n",
    "#change to the utils folder\n",
    "sys.path.append(os.path.abspath(os.path.join('..', 'utils')))\n",
    "\n",
    "from query_executor import query\n",
    "import config\n",
    "import pandas as pd\n",
    "import re\n",
    "import math\n",
    "import time\n",
    "import emailutil\n",
    "import numpy as np\n",
    "from datetime import timedelta\n",
    "from get_values_to_load import get_days_to_load\n",
    "import string_manipulators\n",
    "\n",
    "initial_time = time.time()\n",
    "\n",
    "# get configuration info from config.ini through config.py\n",
    "pg_config_dict = config.get_all_as_dict('postgres')\n",
    "presto_config_dict = config.get_all_as_dict('presto')\n",
    "\n",
    "# instantiate classes and configure connections\n",
    "postgres_executor = query(pg_config_dict)\n",
    "presto_executor = query(presto_config_dict)\n",
    "\n",
    "query_to_execute = \"\"\"select approval_date,\n",
    "b.list_id_nk,\n",
    "reason_removed_detail_name,\n",
    "state_name,\n",
    "case when b.category_id_fk = 46 then 'Autos'\n",
    "     when b.category_id_fk in (79,40,86,44,3,2,80) then 'RE'\n",
    "     when b.category_id_fk is null then 'no cat'\n",
    "     else 'Other' end as category,\n",
    "account_id_fk,\n",
    "price\n",
    "from ods.ad b\n",
    "join ods.dm_area c on b.area_id_fk=c.area_id_pk\n",
    "join ods.dm_reason_removed_detail d on b.reason_removed_detail_id_fk=d.reason_removed_detail_id_pk\n",
    "where {DATE_CLAUSE}\"\"\"\n",
    "\n",
    "# ---- Define these variables ---- #\n",
    "etl_context = 'assignment12'\n",
    "schema_to_load = 'etl_class'\n",
    "table_in_schema_to_load = 'assignment'\n",
    "# -------------------------------- #\n",
    "\n",
    "\n",
    "print(\"\\n Running ETL # -------------- # \\n \")\n"
   ]
  },
  {
   "cell_type": "markdown",
   "metadata": {},
   "source": [
    "Chamaremos a função que vai carregar os dias indicados pelo contexto escolhido anteriormente, em seguida será feita a exploração de dados."
   ]
  },
  {
   "cell_type": "code",
   "execution_count": null,
   "metadata": {},
   "outputs": [],
   "source": [
    "\n",
    "dates_to_load, last_day_loaded = get_days_to_load(etl_context,'etl_class.date_log',\\\n",
    "                                                    'etl_class.config_params',\\\n",
    "                                                    last_day=pd.to_datetime('2018-09-01'))\n",
    "\n",
    "# Loading at D-1\n",
    "date_clause_string, today_date_string = string_manipulators.generate_date_string(date - timedelta(days=1),False)\n",
    "\n",
    "edited_query = string_manipulators.substitute_params_in_string(['{DATE_CLAUSE}'],\\\n",
    "                                            [date_clause_string],query_to_execute)\n",
    "\n",
    "presto_result = presto_executor.query_request(edited_query)\n",
    "\n",
    "pg_result = postgres_executor.query_jdbc(\"select * from etl_class.accounts_table\")"
   ]
  },
  {
   "cell_type": "code",
   "execution_count": null,
   "metadata": {},
   "outputs": [],
   "source": [
    "result.describe()"
   ]
  },
  {
   "cell_type": "code",
   "execution_count": null,
   "metadata": {},
   "outputs": [],
   "source": [
    "result.describe(include='all')"
   ]
  },
  {
   "cell_type": "markdown",
   "metadata": {},
   "source": [
    "Próximo passo é executar o join e avaliar quais ids não estão presentes no segundo dataframe."
   ]
  },
  {
   "cell_type": "code",
   "execution_count": null,
   "metadata": {},
   "outputs": [],
   "source": [
    "result = pd.merge(presto_result,pg_result,how='left',on='account_id_fk')"
   ]
  },
  {
   "cell_type": "markdown",
   "metadata": {},
   "source": [
    "É necessário restringir os dados para ads aprovados em 2018-08-25 pois o year month day não limita todos os approval dates a essa data."
   ]
  },
  {
   "cell_type": "code",
   "execution_count": null,
   "metadata": {},
   "outputs": [],
   "source": [
    "result2 = result[(~pd.isnull(result['gender'])) & (result['approval_date'] == '2018-08-25')]"
   ]
  },
  {
   "cell_type": "markdown",
   "metadata": {},
   "source": [
    "Exemplo de uso da função apply: Conversão de todos os valores 't' e 'f' para True e False, com objetivo de otimizar o armazenamento desses dados. Operações feitas com dados booleanos se tornam exponencialmente mais rápidas que quando armazenados como string."
   ]
  },
  {
   "cell_type": "code",
   "execution_count": null,
   "metadata": {},
   "outputs": [],
   "source": [
    "result2['is_company'] = result2['is_company'].apply(lambda x: True if x == 't' else False)"
   ]
  },
  {
   "cell_type": "markdown",
   "metadata": {},
   "source": [
    "Agruparemos então os dados com a função groupby, semelhante ao SQL, para trazer um pouco do processamento para memória e então extrair a métrica que desejávamos no começo."
   ]
  },
  {
   "cell_type": "code",
   "execution_count": null,
   "metadata": {},
   "outputs": [],
   "source": [
    "result3 = result2.groupby(['approval_date','state_name','gender','is_company'])['account_id_fk'].\\\n",
    "nunique().reset_index()"
   ]
  },
  {
   "cell_type": "markdown",
   "metadata": {},
   "source": [
    "Renomearemos e checaremos o formato das colunas para bater com o nome e o formato no banco. Em seguida, agruparemos também pelo list_id para retirar a quantidade de listings únicos em cada grupo."
   ]
  },
  {
   "cell_type": "code",
   "execution_count": null,
   "metadata": {},
   "outputs": [],
   "source": [
    "result3.columns = ['approval_date', 'state_name', 'gender', 'is_company', 'accounts']\n",
    "result3['listings'] = result2.groupby(['approval_date','state_name','gender','is_company'])['list_id_nk'].\\\n",
    "nunique().reset_index()['list_id_nk']"
   ]
  },
  {
   "cell_type": "markdown",
   "metadata": {},
   "source": [
    "Vamos fazer um teste de inserção para ver se os dados estão ok e se o banco está apto a recebê-los sem erro."
   ]
  },
  {
   "cell_type": "code",
   "execution_count": null,
   "metadata": {},
   "outputs": [],
   "source": [
    "result = result3\n",
    "\n",
    "if result.shape[0] > 100:\n",
    "    postgres_executor.insert_chunks_with_progress(result, table_in_schema_to_load, schema_to_load,\\\n",
    "                                                if_exists='append')\n",
    "else:\n",
    "    postgres_executor.insert_jdbc(result,table_in_schema_to_load,schema_to_load, if_exists='append')\n",
    "\n",
    "date_log_data = pd.DataFrame(data={\"date\": date,\n",
    "                    \"load_date\": str(pd.to_datetime('now').tz_localize('UTC').tz_convert('America/Sao_Paulo')\\\n",
    "                                .tz_localize(None)),\n",
    "                    \"context\": etl_context}, index=[0])\n",
    "postgres_executor.insert_jdbc(date_log_data,'date_log','etl_class', if_exists='append')\n",
    "\n",
    "print('No more days to load!')\n",
    "\n",
    "# gravar no log o tempo para execução\n",
    "print(\"Total Elapsed Time: {} minutes and {} seconds.\".format(str(math.floor((time.time() - initial_time)/60)),\\\n",
    "  str(time.time() - initial_time - math.floor((time.time() - initial_time)/60)*60))) \n"
   ]
  }
 ],
 "metadata": {
  "kernelspec": {
   "display_name": "Python 3",
   "language": "python",
   "name": "python3"
  },
  "language_info": {
   "codemirror_mode": {
    "name": "ipython",
    "version": 3
   },
   "file_extension": ".py",
   "mimetype": "text/x-python",
   "name": "python",
   "nbconvert_exporter": "python",
   "pygments_lexer": "ipython3",
   "version": "3.6.5"
  }
 },
 "nbformat": 4,
 "nbformat_minor": 2
}
